{
 "cells": [
  {
   "cell_type": "markdown",
   "metadata": {},
   "source": [
    "# Test imports"
   ]
  },
  {
   "cell_type": "markdown",
   "metadata": {},
   "source": []
  },
  {
   "cell_type": "code",
   "execution_count": 1,
   "metadata": {},
   "outputs": [],
   "source": [
    "import pandas as pd"
   ]
  },
  {
   "cell_type": "code",
   "execution_count": 2,
   "metadata": {},
   "outputs": [],
   "source": [
    "import sys\n",
    "sys.path.append('../')"
   ]
  },
  {
   "cell_type": "code",
   "execution_count": 3,
   "metadata": {},
   "outputs": [],
   "source": [
    "%load_ext autoreload\n",
    "#%autoreload 1\n",
    "#%aimport crt1d\n",
    "%autoreload 2"
   ]
  },
  {
   "cell_type": "markdown",
   "metadata": {},
   "source": [
    "## General loading"
   ]
  },
  {
   "cell_type": "code",
   "execution_count": 4,
   "metadata": {},
   "outputs": [
    {
     "name": "stderr",
     "output_type": "stream",
     "text": [
      "/usr/local/miniconda3/envs/py3d/lib/python3.7/site-packages/xarray/core/merge.py:17: FutureWarning: The Panel class is removed from pandas. Accessing it from the top-level namespace will also be removed in the next version\n",
      "  PANDAS_TYPES = (pd.Series, pd.DataFrame, pd.Panel)\n"
     ]
    }
   ],
   "source": [
    "import crt1d as crt"
   ]
  },
  {
   "cell_type": "code",
   "execution_count": 5,
   "metadata": {},
   "outputs": [
    {
     "name": "stdout",
     "output_type": "stream",
     "text": [
      "scheme IDs available: bl, 2s, 4s, zq, bf, gd\n",
      "crt1d base dir\n",
      "  /Users/zmoon/gh/1D-canopy-rad/crt1d\n",
      "looking for input data for provided cases in\n",
      "  /Users/zmoon/gh/1D-canopy-rad/crt1d/data\n"
     ]
    }
   ],
   "source": [
    "crt.config()"
   ]
  },
  {
   "cell_type": "code",
   "execution_count": 6,
   "metadata": {},
   "outputs": [
    {
     "data": {
      "text/plain": [
       "crt1d.crt1d.model"
      ]
     },
     "execution_count": 6,
     "metadata": {},
     "output_type": "execute_result"
    }
   ],
   "source": [
    "crt.model"
   ]
  },
  {
   "cell_type": "code",
   "execution_count": 7,
   "metadata": {},
   "outputs": [
    {
     "data": {
      "text/plain": [
       "['__author__',\n",
       " '__builtins__',\n",
       " '__cached__',\n",
       " '__copyright__',\n",
       " '__doc__',\n",
       " '__email__',\n",
       " '__file__',\n",
       " '__license__',\n",
       " '__loader__',\n",
       " '__name__',\n",
       " '__package__',\n",
       " '__path__',\n",
       " '__spec__',\n",
       " '__version__',\n",
       " 'available_schemes',\n",
       " 'cases',\n",
       " 'config',\n",
       " 'crt1d',\n",
       " 'crt1d_base_dir',\n",
       " 'diagnostics',\n",
       " 'input_data_dir',\n",
       " 'leaf_angle',\n",
       " 'leaf_area',\n",
       " 'model',\n",
       " 'os',\n",
       " 'sconfig',\n",
       " 'solvers']"
      ]
     },
     "execution_count": 7,
     "metadata": {},
     "output_type": "execute_result"
    }
   ],
   "source": [
    "dir(crt)"
   ]
  },
  {
   "cell_type": "markdown",
   "metadata": {},
   "source": [
    "## Submodules"
   ]
  },
  {
   "cell_type": "code",
   "execution_count": 8,
   "metadata": {},
   "outputs": [
    {
     "data": {
      "text/plain": [
       "<module 'crt1d.leaf_angle' from '../crt1d/leaf_angle.py'>"
      ]
     },
     "execution_count": 8,
     "metadata": {},
     "output_type": "execute_result"
    }
   ],
   "source": [
    "crt.leaf_angle"
   ]
  },
  {
   "cell_type": "code",
   "execution_count": 9,
   "metadata": {},
   "outputs": [
    {
     "data": {
      "text/plain": [
       "dict_keys(['lai', 'z', 'green', 'mean_leaf_angle', 'clump', 'leaf_t', 'leaf_r', 'soil_r', 'wl_leafsoil', 'orient', 'G_fn', 'I_dr0_all', 'I_df0_all', 'wl', 'dwl', 'psi'])"
      ]
     },
     "execution_count": 9,
     "metadata": {},
     "output_type": "execute_result"
    }
   ],
   "source": [
    "cd, crs = crt.cases.load_default_case(nlayers=2)\n",
    "keys = {**cd, **crs}.keys()\n",
    "keys"
   ]
  },
  {
   "cell_type": "markdown",
   "metadata": {},
   "source": [
    "### Solvers"
   ]
  },
  {
   "cell_type": "code",
   "execution_count": 10,
   "metadata": {},
   "outputs": [
    {
     "data": {
      "text/plain": [
       "<module 'crt1d.solvers' from '../crt1d/solvers/__init__.py'>"
      ]
     },
     "execution_count": 10,
     "metadata": {},
     "output_type": "execute_result"
    }
   ],
   "source": [
    "crt.solvers"
   ]
  },
  {
   "cell_type": "code",
   "execution_count": 11,
   "metadata": {},
   "outputs": [
    {
     "data": {
      "text/plain": [
       "FullArgSpec(args=[], varargs=None, varkw=None, defaults=None, kwonlyargs=['psi', 'I_dr0_all', 'I_df0_all', 'lai', 'leaf_t', 'leaf_r', 'green', 'K_b_fn'], kwonlydefaults=None, annotations={})"
      ]
     },
     "execution_count": 11,
     "metadata": {},
     "output_type": "execute_result"
    }
   ],
   "source": [
    "import inspect\n",
    "inspect.getfullargspec(crt.solvers.bl.solve_bl)"
   ]
  },
  {
   "cell_type": "code",
   "execution_count": 12,
   "metadata": {},
   "outputs": [
    {
     "data": {
      "text/plain": [
       "FullArgSpec(args=[], varargs=None, varkw=None, defaults=None, kwonlyargs=['psi', 'I_dr0_all', 'I_df0_all', 'lai', 'leaf_t', 'leaf_r', 'green', 'soil_r', 'K_b_fn', 'G_fn', 'mu_s'], kwonlydefaults={'mu_s': 0.501}, annotations={})"
      ]
     },
     "execution_count": 12,
     "metadata": {},
     "output_type": "execute_result"
    }
   ],
   "source": [
    "inspect.getfullargspec(crt.solvers.fours.solve_4s)"
   ]
  },
  {
   "cell_type": "code",
   "execution_count": 13,
   "metadata": {},
   "outputs": [
    {
     "data": {
      "text/html": [
       "<div>\n",
       "<style scoped>\n",
       "    .dataframe tbody tr th:only-of-type {\n",
       "        vertical-align: middle;\n",
       "    }\n",
       "\n",
       "    .dataframe tbody tr th {\n",
       "        vertical-align: top;\n",
       "    }\n",
       "\n",
       "    .dataframe thead th {\n",
       "        text-align: right;\n",
       "    }\n",
       "</style>\n",
       "<table border=\"1\" class=\"dataframe\">\n",
       "  <thead>\n",
       "    <tr style=\"text-align: right;\">\n",
       "      <th></th>\n",
       "      <th>module_name</th>\n",
       "      <th>ID</th>\n",
       "      <th>short_name</th>\n",
       "      <th>long_name</th>\n",
       "      <th>args_minus_BL</th>\n",
       "    </tr>\n",
       "  </thead>\n",
       "  <tbody>\n",
       "    <tr>\n",
       "      <td>bl</td>\n",
       "      <td>bl</td>\n",
       "      <td>bl</td>\n",
       "      <td>B-L</td>\n",
       "      <td>Beer-Lambert</td>\n",
       "      <td>{}</td>\n",
       "    </tr>\n",
       "    <tr>\n",
       "      <td>2s</td>\n",
       "      <td>twos_ds</td>\n",
       "      <td>2s</td>\n",
       "      <td>2s</td>\n",
       "      <td>Dickinson–Sellers two-stream</td>\n",
       "      <td>{soil_r, mean_leaf_angle, G_fn}</td>\n",
       "    </tr>\n",
       "    <tr>\n",
       "      <td>4s</td>\n",
       "      <td>fours</td>\n",
       "      <td>4s</td>\n",
       "      <td>4s</td>\n",
       "      <td>four-stream</td>\n",
       "      <td>{soil_r, G_fn}</td>\n",
       "    </tr>\n",
       "    <tr>\n",
       "      <td>zq</td>\n",
       "      <td>zq</td>\n",
       "      <td>zq</td>\n",
       "      <td>ZQ</td>\n",
       "      <td>Zhao &amp; Qualls multi-scattering</td>\n",
       "      <td>{soil_r, G_fn}</td>\n",
       "    </tr>\n",
       "    <tr>\n",
       "      <td>bf</td>\n",
       "      <td>bf</td>\n",
       "      <td>bf</td>\n",
       "      <td>BF</td>\n",
       "      <td>Bodin &amp; Franklin improved Goudriaan</td>\n",
       "      <td>{soil_r}</td>\n",
       "    </tr>\n",
       "    <tr>\n",
       "      <td>gd</td>\n",
       "      <td>gd</td>\n",
       "      <td>gd</td>\n",
       "      <td>Gou</td>\n",
       "      <td>Goudriaan</td>\n",
       "      <td>{soil_r}</td>\n",
       "    </tr>\n",
       "  </tbody>\n",
       "</table>\n",
       "</div>"
      ],
      "text/plain": [
       "   module_name  ID short_name                            long_name  \\\n",
       "bl          bl  bl        B-L                         Beer-Lambert   \n",
       "2s     twos_ds  2s         2s         Dickinson–Sellers two-stream   \n",
       "4s       fours  4s         4s                          four-stream   \n",
       "zq          zq  zq         ZQ       Zhao & Qualls multi-scattering   \n",
       "bf          bf  bf         BF  Bodin & Franklin improved Goudriaan   \n",
       "gd          gd  gd        Gou                            Goudriaan   \n",
       "\n",
       "                      args_minus_BL  \n",
       "bl                               {}  \n",
       "2s  {soil_r, mean_leaf_angle, G_fn}  \n",
       "4s                   {soil_r, G_fn}  \n",
       "zq                   {soil_r, G_fn}  \n",
       "bf                         {soil_r}  \n",
       "gd                         {soil_r}  "
      ]
     },
     "execution_count": 13,
     "metadata": {},
     "output_type": "execute_result"
    }
   ],
   "source": [
    "df_schemes = pd.DataFrame(crt.available_schemes).T\n",
    "\n",
    "BL_args = set(a for a in df_schemes.loc[df_schemes.ID == 'bl'].args[0])\n",
    "df_schemes['args_minus_BL'] = df_schemes['args'].apply(lambda x: set(x).symmetric_difference(BL_args))\n",
    "\n",
    "df_schemes.drop(columns=['args', 'solver'])  # solver memory address not very informative"
   ]
  },
  {
   "cell_type": "code",
   "execution_count": null,
   "metadata": {},
   "outputs": [],
   "source": []
  },
  {
   "cell_type": "code",
   "execution_count": null,
   "metadata": {},
   "outputs": [],
   "source": []
  }
 ],
 "metadata": {
  "kernelspec": {
   "display_name": "Python [conda env:py3d]",
   "language": "python",
   "name": "conda-env-py3d-py"
  },
  "language_info": {
   "codemirror_mode": {
    "name": "ipython",
    "version": 3
   },
   "file_extension": ".py",
   "mimetype": "text/x-python",
   "name": "python",
   "nbconvert_exporter": "python",
   "pygments_lexer": "ipython3",
   "version": "3.7.4"
  },
  "toc": {
   "base_numbering": 1,
   "nav_menu": {},
   "number_sections": true,
   "sideBar": false,
   "skip_h1_title": true,
   "title_cell": "Table of Contents",
   "title_sidebar": "Contents",
   "toc_cell": false,
   "toc_position": {
    "height": "491.217px",
    "left": "10px",
    "top": "150px",
    "width": "473.533px"
   },
   "toc_section_display": true,
   "toc_window_display": true
  }
 },
 "nbformat": 4,
 "nbformat_minor": 4
}
