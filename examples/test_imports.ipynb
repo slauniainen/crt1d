{
 "cells": [
  {
   "cell_type": "markdown",
   "metadata": {},
   "source": [
    "# Test imports"
   ]
  },
  {
   "cell_type": "markdown",
   "metadata": {},
   "source": []
  },
  {
   "cell_type": "code",
   "execution_count": 1,
   "metadata": {},
   "outputs": [],
   "source": [
    "import pandas as pd"
   ]
  },
  {
   "cell_type": "code",
   "execution_count": 16,
   "metadata": {},
   "outputs": [],
   "source": [
    "import sys\n",
    "sys.path.append('../')"
   ]
  },
  {
   "cell_type": "code",
   "execution_count": 17,
   "metadata": {},
   "outputs": [
    {
     "name": "stdout",
     "output_type": "stream",
     "text": [
      "The autoreload extension is already loaded. To reload it, use:\n",
      "  %reload_ext autoreload\n"
     ]
    }
   ],
   "source": [
    "%load_ext autoreload\n",
    "#%autoreload 1\n",
    "#%aimport crt1d\n",
    "%autoreload 2"
   ]
  },
  {
   "cell_type": "markdown",
   "metadata": {},
   "source": [
    "## General loading"
   ]
  },
  {
   "cell_type": "code",
   "execution_count": 4,
   "metadata": {},
   "outputs": [],
   "source": [
    "import crt1d as crt"
   ]
  },
  {
   "cell_type": "code",
   "execution_count": 15,
   "metadata": {},
   "outputs": [
    {
     "name": "stdout",
     "output_type": "stream",
     "text": [
      "scheme IDs available: bl, 2s, 4s, zq, bf, gd\n",
      "crt1d base dir\n",
      "  /mnt/c/Users/zmoon/gh/1D-canopy-rad/crt1d\n",
      "looking for input data for provided cases in\n",
      "  /mnt/c/Users/zmoon/gh/1D-canopy-rad/crt1d/data\n"
     ]
    }
   ],
   "source": [
    "crt.config()"
   ]
  },
  {
   "cell_type": "code",
   "execution_count": 6,
   "metadata": {},
   "outputs": [
    {
     "data": {
      "text/plain": [
       "crt1d.crt1d.model"
      ]
     },
     "execution_count": 6,
     "metadata": {},
     "output_type": "execute_result"
    }
   ],
   "source": [
    "crt.model"
   ]
  },
  {
   "cell_type": "markdown",
   "metadata": {},
   "source": [
    "## Submodules"
   ]
  },
  {
   "cell_type": "code",
   "execution_count": 7,
   "metadata": {},
   "outputs": [
    {
     "data": {
      "text/plain": [
       "<module 'crt1d.leaf_angle_dist' from '../crt1d/leaf_angle_dist.py'>"
      ]
     },
     "execution_count": 7,
     "metadata": {},
     "output_type": "execute_result"
    }
   ],
   "source": [
    "crt.leaf_angle_dist"
   ]
  },
  {
   "cell_type": "code",
   "execution_count": 8,
   "metadata": {},
   "outputs": [
    {
     "data": {
      "text/plain": [
       "dict_keys(['lai', 'z', 'green', 'mean_leaf_angle', 'clump', 'leaf_t', 'leaf_r', 'soil_r', 'wl_leafsoil', 'orient', 'G_fn', 'I_dr0_all', 'I_df0_all', 'wl', 'dwl', 'psi'])"
      ]
     },
     "execution_count": 8,
     "metadata": {},
     "output_type": "execute_result"
    }
   ],
   "source": [
    "cd, crs = crt.cases.load_default_case(nlayers=2)\n",
    "keys = {**cd, **crs}.keys()\n",
    "keys"
   ]
  },
  {
   "cell_type": "markdown",
   "metadata": {},
   "source": [
    "### Solvers"
   ]
  },
  {
   "cell_type": "code",
   "execution_count": 9,
   "metadata": {},
   "outputs": [
    {
     "data": {
      "text/plain": [
       "FullArgSpec(args=[], varargs=None, varkw=None, defaults=None, kwonlyargs=['psi', 'I_dr0_all', 'I_df0_all', 'wl', 'dwl', 'lai', 'leaf_t', 'leaf_r', 'green', 'K_b_fn'], kwonlydefaults=None, annotations={})"
      ]
     },
     "execution_count": 9,
     "metadata": {},
     "output_type": "execute_result"
    }
   ],
   "source": [
    "import inspect\n",
    "inspect.getfullargspec(crt.solvers.bl.solve_bl)"
   ]
  },
  {
   "cell_type": "code",
   "execution_count": 10,
   "metadata": {},
   "outputs": [
    {
     "data": {
      "text/html": [
       "<div>\n",
       "<style scoped>\n",
       "    .dataframe tbody tr th:only-of-type {\n",
       "        vertical-align: middle;\n",
       "    }\n",
       "\n",
       "    .dataframe tbody tr th {\n",
       "        vertical-align: top;\n",
       "    }\n",
       "\n",
       "    .dataframe thead th {\n",
       "        text-align: right;\n",
       "    }\n",
       "</style>\n",
       "<table border=\"1\" class=\"dataframe\">\n",
       "  <thead>\n",
       "    <tr style=\"text-align: right;\">\n",
       "      <th></th>\n",
       "      <th>ID</th>\n",
       "      <th>long_name</th>\n",
       "      <th>module_name</th>\n",
       "      <th>short_name</th>\n",
       "      <th>args_minus_BL</th>\n",
       "    </tr>\n",
       "  </thead>\n",
       "  <tbody>\n",
       "    <tr>\n",
       "      <th>bl</th>\n",
       "      <td>bl</td>\n",
       "      <td>Beer-Lambert</td>\n",
       "      <td>bl</td>\n",
       "      <td>B-L</td>\n",
       "      <td>{}</td>\n",
       "    </tr>\n",
       "    <tr>\n",
       "      <th>2s</th>\n",
       "      <td>2s</td>\n",
       "      <td>Dickinson–Sellers two-stream</td>\n",
       "      <td>twos_ds</td>\n",
       "      <td>2s</td>\n",
       "      <td>{mean_leaf_angle, soil_r, G_fn}</td>\n",
       "    </tr>\n",
       "    <tr>\n",
       "      <th>4s</th>\n",
       "      <td>4s</td>\n",
       "      <td>four-stream</td>\n",
       "      <td>fours</td>\n",
       "      <td>4s</td>\n",
       "      <td>{mu_s, soil_r, G_fn}</td>\n",
       "    </tr>\n",
       "    <tr>\n",
       "      <th>zq</th>\n",
       "      <td>zq</td>\n",
       "      <td>Zhao &amp; Qualls multi-scattering</td>\n",
       "      <td>zq</td>\n",
       "      <td>ZQ</td>\n",
       "      <td>{soil_r, G_fn}</td>\n",
       "    </tr>\n",
       "    <tr>\n",
       "      <th>bf</th>\n",
       "      <td>bf</td>\n",
       "      <td>Bodin &amp; Franklin improved Goudriaan</td>\n",
       "      <td>bf</td>\n",
       "      <td>BF</td>\n",
       "      <td>{soil_r}</td>\n",
       "    </tr>\n",
       "    <tr>\n",
       "      <th>gd</th>\n",
       "      <td>gd</td>\n",
       "      <td>Goudriaan</td>\n",
       "      <td>gd</td>\n",
       "      <td>Gou</td>\n",
       "      <td>{soil_r}</td>\n",
       "    </tr>\n",
       "  </tbody>\n",
       "</table>\n",
       "</div>"
      ],
      "text/plain": [
       "    ID                            long_name module_name short_name  \\\n",
       "bl  bl                         Beer-Lambert          bl        B-L   \n",
       "2s  2s         Dickinson–Sellers two-stream     twos_ds         2s   \n",
       "4s  4s                          four-stream       fours         4s   \n",
       "zq  zq       Zhao & Qualls multi-scattering          zq         ZQ   \n",
       "bf  bf  Bodin & Franklin improved Goudriaan          bf         BF   \n",
       "gd  gd                            Goudriaan          gd        Gou   \n",
       "\n",
       "                      args_minus_BL  \n",
       "bl                               {}  \n",
       "2s  {mean_leaf_angle, soil_r, G_fn}  \n",
       "4s             {mu_s, soil_r, G_fn}  \n",
       "zq                   {soil_r, G_fn}  \n",
       "bf                         {soil_r}  \n",
       "gd                         {soil_r}  "
      ]
     },
     "execution_count": 10,
     "metadata": {},
     "output_type": "execute_result"
    }
   ],
   "source": [
    "df_schemes = pd.DataFrame(crt.available_schemes).T\n",
    "\n",
    "BL_args = set(a for a in df_schemes.loc[df_schemes.ID == 'bl'].args[0])\n",
    "df_schemes['args_minus_BL'] = df_schemes['args'].apply(lambda x: set(x).symmetric_difference(BL_args))\n",
    "\n",
    "df_schemes.drop(columns=['args', 'solver'])  # solver memory address not very informative"
   ]
  }
 ],
 "metadata": {
  "kernelspec": {
   "display_name": "Python [conda env:py3d]",
   "language": "python",
   "name": "conda-env-py3d-py"
  },
  "language_info": {
   "codemirror_mode": {
    "name": "ipython",
    "version": 3
   },
   "file_extension": ".py",
   "mimetype": "text/x-python",
   "name": "python",
   "nbconvert_exporter": "python",
   "pygments_lexer": "ipython3",
   "version": "3.7.3"
  }
 },
 "nbformat": 4,
 "nbformat_minor": 4
}
